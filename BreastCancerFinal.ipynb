{
  "nbformat": 4,
  "nbformat_minor": 0,
  "metadata": {
    "colab": {
      "name": "BreastCancerFinal.ipynb",
      "provenance": [],
      "collapsed_sections": []
    },
    "kernelspec": {
      "name": "python3",
      "display_name": "Python 3"
    }
  },
  "cells": [
    {
      "cell_type": "markdown",
      "metadata": {
        "id": "zXuyjRfkY_ru"
      },
      "source": [
        "Importing the Libraries"
      ]
    },
    {
      "cell_type": "code",
      "metadata": {
        "id": "K53bbMZZXtbz"
      },
      "source": [
        "import pickle \n",
        "import numpy as np\n",
        "from sklearn.ensemble import RandomForestClassifier\n",
        "from sklearn.metrics import accuracy_score"
      ],
      "execution_count": 1,
      "outputs": []
    },
    {
      "cell_type": "code",
      "metadata": {
        "id": "dNVPqZh9YWtr"
      },
      "source": [
        "filename = 'RandomForestsBreastCancer.sav'"
      ],
      "execution_count": 2,
      "outputs": []
    },
    {
      "cell_type": "markdown",
      "metadata": {
        "id": "svoSB2GpZFDp"
      },
      "source": [
        "Loading the model"
      ]
    },
    {
      "cell_type": "code",
      "metadata": {
        "id": "gl6BT1GmYBVv"
      },
      "source": [
        "rfc = pickle.load(open(filename, 'rb'))"
      ],
      "execution_count": 3,
      "outputs": []
    },
    {
      "cell_type": "markdown",
      "metadata": {
        "id": "ZrVphbEBZL2K"
      },
      "source": [
        "Creating a random symptoms sample. The input shape should be (1, 8)"
      ]
    },
    {
      "cell_type": "code",
      "metadata": {
        "id": "dpcNY5VsYtn8"
      },
      "source": [
        "trial_numpy = np.array([17.99,\t10.38,\t122.80,\t1001.0,\t0.11840,\t0.27760,\t0.30010,\t0.14710,\t0.2419,\t0.07871,\t1.0950,\t0.9053,\t8.589,\t153.40,\t0.006399,\t0.04904,\t0.05373,\t0.01587,\t0.03003,\t0.006193,\t25.38,\t17.33,\t184.60,\t2019.0,\t0.1622,\t0.6656,\t0.7119,\t0.2654,\t0.4601,\t0.11890])\n",
        "trial_numpy = trial_numpy.reshape(1, 30)"
      ],
      "execution_count": 4,
      "outputs": []
    },
    {
      "cell_type": "markdown",
      "metadata": {
        "id": "L1WJw-5nZZYN"
      },
      "source": [
        "Predicting the disease for the created sample"
      ]
    },
    {
      "cell_type": "code",
      "metadata": {
        "colab": {
          "base_uri": "https://localhost:8080/"
        },
        "id": "bf3hrxFQYwxc",
        "outputId": "e1c772d7-fe2a-401e-e06c-813c7875bf30"
      },
      "source": [
        "rfc.predict(trial_numpy)"
      ],
      "execution_count": 6,
      "outputs": [
        {
          "output_type": "execute_result",
          "data": {
            "text/plain": [
              "array(['M'], dtype=object)"
            ]
          },
          "metadata": {
            "tags": []
          },
          "execution_count": 6
        }
      ]
    },
    {
      "cell_type": "markdown",
      "metadata": {
        "id": "wa9P8Lo6kaWJ"
      },
      "source": [
        "M => presence of malignant <br>\n",
        "B => absence of Benign"
      ]
    },
    {
      "cell_type": "code",
      "metadata": {
        "id": "FGKCbo0-bD7i"
      },
      "source": [
        ""
      ],
      "execution_count": null,
      "outputs": []
    }
  ]
}